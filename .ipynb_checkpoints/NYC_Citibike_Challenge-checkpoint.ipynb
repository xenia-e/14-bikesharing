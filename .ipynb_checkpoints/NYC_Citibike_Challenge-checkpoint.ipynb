{
 "cells": [
  {
   "cell_type": "code",
   "execution_count": 1,
   "metadata": {},
   "outputs": [],
   "source": [
    "import pandas as pd"
   ]
  },
  {
   "cell_type": "code",
   "execution_count": 2,
   "metadata": {},
   "outputs": [
    {
     "name": "stdout",
     "output_type": "stream",
     "text": [
      "   tripduration                 starttime                  stoptime  \\\n",
      "0           393  2019-08-01 00:00:01.4680  2019-08-01 00:06:35.3780   \n",
      "1           627  2019-08-01 00:00:01.9290  2019-08-01 00:10:29.7840   \n",
      "2          1132  2019-08-01 00:00:04.0480  2019-08-01 00:18:56.1650   \n",
      "3          1780  2019-08-01 00:00:04.1630  2019-08-01 00:29:44.7940   \n",
      "4          1517  2019-08-01 00:00:05.4580  2019-08-01 00:25:23.4550   \n",
      "\n",
      "   start station id              start station name  start station latitude  \\\n",
      "0             531.0          Forsyth St & Broome St               40.718939   \n",
      "1             274.0  Lafayette Ave & Fort Greene Pl               40.686919   \n",
      "2            2000.0        Front St & Washington St               40.702551   \n",
      "3             479.0                 9 Ave & W 45 St               40.760193   \n",
      "4            3312.0                 1 Ave & E 94 St               40.781721   \n",
      "\n",
      "   start station longitude  end station id            end station name  \\\n",
      "0               -73.992663           408.0       Market St & Cherry St   \n",
      "1               -73.976682          3409.0        Bergen St & Smith St   \n",
      "2               -73.989402          3388.0     President St & Henry St   \n",
      "3               -73.991255           473.0  Rivington St & Chrystie St   \n",
      "4               -73.945940          3312.0             1 Ave & E 94 St   \n",
      "\n",
      "   end station latitude  end station longitude  bikeid    usertype  \\\n",
      "0             40.710762             -73.994004   35305  Subscriber   \n",
      "1             40.686744             -73.990632   38822  Subscriber   \n",
      "2             40.682800             -73.999904   18373  Subscriber   \n",
      "3             40.721101             -73.991925   25002  Subscriber   \n",
      "4             40.781721             -73.945940   31198  Subscriber   \n",
      "\n",
      "   birth year  gender  \n",
      "0        1996       2  \n",
      "1        1998       2  \n",
      "2        1988       1  \n",
      "3        1988       1  \n",
      "4        1965       2  \n"
     ]
    }
   ],
   "source": [
    "# 1. Create a DataFrame for the 201908-citibike-tripdata data. \n",
    "citibike_tripdata_df = pd.read_csv(\"./resources/201908-citibike-tripdata.csv\")\n",
    "print(citibike_tripdata_df.head())"
   ]
  },
  {
   "cell_type": "code",
   "execution_count": null,
   "metadata": {},
   "outputs": [],
   "source": [
    "# 2. Check the datatypes of your columns. \n"
   ]
  },
  {
   "cell_type": "code",
   "execution_count": null,
   "metadata": {},
   "outputs": [],
   "source": [
    "# 3. Convert the 'tripduration' column to datetime datatype.\n"
   ]
  },
  {
   "cell_type": "code",
   "execution_count": null,
   "metadata": {},
   "outputs": [],
   "source": [
    "# 4. Check the datatypes of your columns. \n"
   ]
  },
  {
   "cell_type": "code",
   "execution_count": null,
   "metadata": {},
   "outputs": [],
   "source": [
    "# 5. Export the Dataframe as a new CSV file without the index.\n"
   ]
  },
  {
   "cell_type": "code",
   "execution_count": null,
   "metadata": {},
   "outputs": [],
   "source": []
  }
 ],
 "metadata": {
  "kernelspec": {
   "display_name": "PythonData",
   "language": "python",
   "name": "pythondata"
  },
  "language_info": {
   "codemirror_mode": {
    "name": "ipython",
    "version": 3
   },
   "file_extension": ".py",
   "mimetype": "text/x-python",
   "name": "python",
   "nbconvert_exporter": "python",
   "pygments_lexer": "ipython3",
   "version": "3.7.10"
  }
 },
 "nbformat": 4,
 "nbformat_minor": 4
}
